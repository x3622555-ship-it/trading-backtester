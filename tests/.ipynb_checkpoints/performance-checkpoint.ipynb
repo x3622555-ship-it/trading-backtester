{
 "cells": [
  {
   "cell_type": "code",
   "execution_count": null,
   "id": "e7dd3094",
   "metadata": {
    "vscode": {
     "languageId": "plaintext"
    }
   },
   "outputs": [],
   "source": [
    "# Performance Evaluation Notebook\n",
    "import os\n",
    "import sys\n",
    "import pandas as pd\n",
    "import matplotlib.pyplot as plt\n",
    "\n",
    "sys.path.append(os.path.abspath(\"../src\"))\n",
    "\n",
    "from data_loader import load_market_data\n",
    "from strategies import MovingAverageStrategy\n",
    "from engine import BacktestEngine\n",
    "from reporting import calculate_total_return, calculate_sharpe_ratio\n"
   ]
  },
  {
   "cell_type": "code",
   "execution_count": null,
   "id": "a37ad590",
   "metadata": {
    "vscode": {
     "languageId": "plaintext"
    }
   },
   "outputs": [],
   "source": [
    "data = load_market_data(\"../data/market_data.csv\")\n",
    "data.head()\n"
   ]
  },
  {
   "cell_type": "code",
   "execution_count": null,
   "id": "75e83d77",
   "metadata": {
    "vscode": {
     "languageId": "plaintext"
    }
   },
   "outputs": [],
   "source": [
    "# Run a simple moving average crossover backtest\n",
    "strategy = MovingAverageStrategy(short_window=5, long_window=20)\n",
    "engine = BacktestEngine(strategy)\n",
    "results = engine.run(data)\n",
    "results.head()\n"
   ]
  },
  {
   "cell_type": "code",
   "execution_count": null,
   "id": "72cdd904",
   "metadata": {
    "vscode": {
     "languageId": "plaintext"
    }
   },
   "outputs": [],
   "source": [
    "plt.figure(figsize=(12,5))\n",
    "plt.plot(results['timestamp'], results['price'], label='Price')\n",
    "plt.plot(results['timestamp'], results['short_ma'], label='Short MA', alpha=0.7)\n",
    "plt.plot(results['timestamp'], results['long_ma'], label='Long MA', alpha=0.7)\n",
    "plt.legend()\n",
    "plt.title(\"Moving Average Strategy Performance\")\n",
    "plt.show()\n"
   ]
  },
  {
   "cell_type": "code",
   "execution_count": null,
   "id": "5a1d46e1",
   "metadata": {
    "vscode": {
     "languageId": "plaintext"
    }
   },
   "outputs": [],
   "source": [
    "total_return = calculate_total_return(results)\n",
    "sharpe = calculate_sharpe_ratio(results)\n",
    "\n",
    "print(f\"Total Return: {total_return:.2f}%\")\n",
    "print(f\"Sharpe Ratio: {sharpe:.2f}\")\n"
   ]
  },
  {
   "cell_type": "code",
   "execution_count": null,
   "id": "5da2d2c4",
   "metadata": {
    "vscode": {
     "languageId": "plaintext"
    }
   },
   "outputs": [],
   "source": [
    "print(\"✅ Backtest complete.\")\n",
    "print(\"Data points tested:\", len(results))\n",
    "print(\"Strategy:\", strategy.__class__.__name__)\n"
   ]
  }
 ],
 "metadata": {
  "language_info": {
   "name": "python"
  }
 },
 "nbformat": 4,
 "nbformat_minor": 5
}
