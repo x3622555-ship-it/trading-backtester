{
 "cells": [
  {
   "cell_type": "code",
   "execution_count": null,
   "id": "f5c67d6d",
   "metadata": {
    "vscode": {
     "languageId": "plaintext"
    }
   },
   "outputs": [],
   "source": [
    "# Unit Tests for Trading Backtester\n",
    "import os\n",
    "import sys\n",
    "import pandas as pd\n",
    "\n",
    "# Make sure src folder is importable\n",
    "sys.path.append(os.path.abspath(\"../src\"))\n",
    "\n",
    "from data_loader import load_market_data\n",
    "from models import MarketDataPoint\n",
    "from reporting import calculate_total_return, calculate_sharpe_ratio\n"
   ]
  },
  {
   "cell_type": "code",
   "execution_count": null,
   "id": "a370a150",
   "metadata": {
    "vscode": {
     "languageId": "plaintext"
    }
   },
   "outputs": [],
   "source": [
    "# Test loading generated CSV data\n",
    "df = load_market_data(\"../data/market_data.csv\")\n",
    "df.head()\n"
   ]
  },
  {
   "cell_type": "code",
   "execution_count": null,
   "id": "88e592c4",
   "metadata": {
    "vscode": {
     "languageId": "plaintext"
    }
   },
   "outputs": [],
   "source": [
    "# Create a sample MarketDataPoint\n",
    "from datetime import datetime\n",
    "sample = MarketDataPoint(timestamp=datetime.now(), symbol=\"AAPL\", price=150.0)\n",
    "print(sample)\n",
    "assert isinstance(sample, MarketDataPoint)\n"
   ]
  },
  {
   "cell_type": "code",
   "execution_count": null,
   "id": "97ad2895",
   "metadata": {
    "vscode": {
     "languageId": "plaintext"
    }
   },
   "outputs": [],
   "source": [
    "# Basic metric checks\n",
    "returns = calculate_total_return(df)\n",
    "sharpe = calculate_sharpe_ratio(df)\n",
    "\n",
    "print(\"Total Return:\", returns)\n",
    "print(\"Sharpe Ratio:\", sharpe)\n"
   ]
  },
  {
   "cell_type": "code",
   "execution_count": null,
   "id": "e2b511c9",
   "metadata": {
    "vscode": {
     "languageId": "plaintext"
    }
   },
   "outputs": [],
   "source": [
    "assert isinstance(returns, float), \"Total return should be a float\"\n",
    "assert isinstance(sharpe, float), \"Sharpe ratio should be a float\"\n",
    "assert not df.empty, \"DataFrame should not be empty\"\n",
    "\n",
    "print(\"✅ All unit tests passed successfully.\")\n"
   ]
  }
 ],
 "metadata": {
  "language_info": {
   "name": "python"
  }
 },
 "nbformat": 4,
 "nbformat_minor": 5
}
