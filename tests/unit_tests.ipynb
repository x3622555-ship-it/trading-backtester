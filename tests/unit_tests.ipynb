{
 "cells": [
  {
   "cell_type": "code",
   "execution_count": 1,
   "id": "f5c67d6d",
   "metadata": {
    "vscode": {
     "languageId": "plaintext"
    }
   },
   "outputs": [],
   "source": [
    "# Unit Tests for Trading Backtester\n",
    "import os\n",
    "import sys\n",
    "import pandas as pd\n",
    "\n",
    "# Make sure src folder is importable\n",
    "sys.path.append(os.path.abspath(\"../src\"))\n",
    "\n",
    "from data_loader import load_market_data\n",
    "from models import MarketDataPoint\n",
    "from reporting import calculate_total_return, calculate_sharpe_ratio\n"
   ]
  },
  {
   "cell_type": "code",
   "execution_count": 2,
   "id": "a370a150",
   "metadata": {
    "vscode": {
     "languageId": "plaintext"
    }
   },
   "outputs": [
    {
     "ename": "FileNotFoundError",
     "evalue": "../data/market_data.csv not found",
     "output_type": "error",
     "traceback": [
      "\u001b[31m---------------------------------------------------------------------------\u001b[39m",
      "\u001b[31mFileNotFoundError\u001b[39m                         Traceback (most recent call last)",
      "\u001b[36mCell\u001b[39m\u001b[36m \u001b[39m\u001b[32mIn[2]\u001b[39m\u001b[32m, line 2\u001b[39m\n\u001b[32m      1\u001b[39m \u001b[38;5;66;03m# Test loading generated CSV data\u001b[39;00m\n\u001b[32m----> \u001b[39m\u001b[32m2\u001b[39m df = \u001b[43mload_market_data\u001b[49m\u001b[43m(\u001b[49m\u001b[33;43m\"\u001b[39;49m\u001b[33;43m../data/market_data.csv\u001b[39;49m\u001b[33;43m\"\u001b[39;49m\u001b[43m)\u001b[49m\n\u001b[32m      3\u001b[39m df.head()\n",
      "\u001b[36mFile \u001b[39m\u001b[32m~\\Desktop\\trading-backtester\\src\\data_loader.py:18\u001b[39m, in \u001b[36mload_market_data\u001b[39m\u001b[34m(csv_path)\u001b[39m\n\u001b[32m     16\u001b[39m path = Path(csv_path)\n\u001b[32m     17\u001b[39m \u001b[38;5;28;01mif\u001b[39;00m \u001b[38;5;129;01mnot\u001b[39;00m path.exists():\n\u001b[32m---> \u001b[39m\u001b[32m18\u001b[39m     \u001b[38;5;28;01mraise\u001b[39;00m \u001b[38;5;167;01mFileNotFoundError\u001b[39;00m(\u001b[33mf\u001b[39m\u001b[33m\"\u001b[39m\u001b[38;5;132;01m{\u001b[39;00mcsv_path\u001b[38;5;132;01m}\u001b[39;00m\u001b[33m not found\u001b[39m\u001b[33m\"\u001b[39m)\n\u001b[32m     20\u001b[39m rows = []\n\u001b[32m     21\u001b[39m \u001b[38;5;28;01mwith\u001b[39;00m path.open(newline=\u001b[33m'\u001b[39m\u001b[33m'\u001b[39m) \u001b[38;5;28;01mas\u001b[39;00m fh:\n",
      "\u001b[31mFileNotFoundError\u001b[39m: ../data/market_data.csv not found"
     ]
    }
   ],
   "source": [
    "# Test loading generated CSV data\n",
    "df = load_market_data(\"../data/market_data.csv\")\n",
    "df.head()\n"
   ]
  },
  {
   "cell_type": "code",
   "execution_count": null,
   "id": "88e592c4",
   "metadata": {
    "vscode": {
     "languageId": "plaintext"
    }
   },
   "outputs": [],
   "source": [
    "# Create a sample MarketDataPoint\n",
    "from datetime import datetime\n",
    "sample = MarketDataPoint(timestamp=datetime.now(), symbol=\"AAPL\", price=150.0)\n",
    "print(sample)\n",
    "assert isinstance(sample, MarketDataPoint)\n"
   ]
  },
  {
   "cell_type": "code",
   "execution_count": null,
   "id": "97ad2895",
   "metadata": {
    "vscode": {
     "languageId": "plaintext"
    }
   },
   "outputs": [],
   "source": [
    "# Basic metric checks\n",
    "returns = calculate_total_return(df)\n",
    "sharpe = calculate_sharpe_ratio(df)\n",
    "\n",
    "print(\"Total Return:\", returns)\n",
    "print(\"Sharpe Ratio:\", sharpe)\n"
   ]
  },
  {
   "cell_type": "code",
   "execution_count": null,
   "id": "e2b511c9",
   "metadata": {
    "vscode": {
     "languageId": "plaintext"
    }
   },
   "outputs": [],
   "source": [
    "assert isinstance(returns, float), \"Total return should be a float\"\n",
    "assert isinstance(sharpe, float), \"Sharpe ratio should be a float\"\n",
    "assert not df.empty, \"DataFrame should not be empty\"\n",
    "\n",
    "print(\"✅ All unit tests passed successfully.\")\n"
   ]
  }
 ],
 "metadata": {
  "kernelspec": {
   "display_name": "Python 3 (ipykernel)",
   "language": "python",
   "name": "python3"
  },
  "language_info": {
   "codemirror_mode": {
    "name": "ipython",
    "version": 3
   },
   "file_extension": ".py",
   "mimetype": "text/x-python",
   "name": "python",
   "nbconvert_exporter": "python",
   "pygments_lexer": "ipython3",
   "version": "3.14.0"
  }
 },
 "nbformat": 4,
 "nbformat_minor": 5
}
